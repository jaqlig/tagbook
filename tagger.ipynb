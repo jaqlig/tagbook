{
 "cells": [
  {
   "cell_type": "code",
   "execution_count": 1,
   "metadata": {},
   "outputs": [],
   "source": [
    "import math\n",
    "import pandas as pd\n",
    "import random\n",
    "from collections import Counter"
   ]
  },
  {
   "cell_type": "code",
   "execution_count": 2,
   "metadata": {},
   "outputs": [],
   "source": [
    "class DataProcessing:\n",
    "    @staticmethod\n",
    "    def shuffle(x):\n",
    "        for i in range(len(x)-1):\n",
    "            j = random.randint(0,i)\n",
    "            x.iloc[i], x.iloc[j] = x.iloc[j], x.iloc[i]\n",
    "        return x\n",
    "    \n",
    "    @staticmethod\n",
    "    def split(x):\n",
    "        size = len(x)\n",
    "        first_part = math.ceil(size*0.3) # 30% : 70%\n",
    "        a = x[:first_part]\n",
    "        b = x[first_part:]\n",
    "        return a, b\n",
    "\n",
    "class SoftSet:\n",
    "    @staticmethod\n",
    "    def classify(Y, sample):\n",
    "        \n",
    "        # sum normalized values\n",
    "        match = {}\n",
    "        for genre in Y: # for every genre in 0/1 set\n",
    "            if genre not in match:\n",
    "                match[genre] = 0\n",
    "            for word in sample:        \n",
    "                if word in Y[genre]:\n",
    "                    match[genre] += sample[word] + Y[genre][word]\n",
    "        \n",
    "        # sorting\n",
    "        best = {k: v for k, v in sorted(match.items(), key=lambda item: item[1], reverse=True)}\n",
    "        \n",
    "        # return 4 best tags\n",
    "        return dict(list(best.items())[:4])\n",
    "    \n",
    "class Tools:\n",
    "    \n",
    "    @staticmethod\n",
    "    def readAndCount(book_id):\n",
    "        # read file\n",
    "        words = ''\n",
    "        try:\n",
    "            f = open('out_processed/libgen/' + str(book_id) + '.txt')\n",
    "            words = f.read()\n",
    "            words = words.split()\n",
    "            \n",
    "        except FileNotFoundError: # if the file doesn't exist for some reason\n",
    "            global db\n",
    "            db = db.drop(db.loc[db['id'] == book_id].index)\n",
    "        \n",
    "        # count unique words\n",
    "        count = {}\n",
    "        for word in words:\n",
    "            if word in count:\n",
    "                count[word] += 1\n",
    "            else:\n",
    "                count[word] = 1\n",
    "                \n",
    "        # sorting\n",
    "        count = {k: v for k, v in sorted(count.items(), key=lambda item: item[1], reverse=True)}\n",
    "        \n",
    "        return count\n",
    "    \n",
    "    @staticmethod\n",
    "    def countWords(book_id): # for sample\n",
    "        \n",
    "        count = Tools.readAndCount(book_id)        \n",
    "        count = dict(list(count.items())[0: 400]) # number of top words in a sample\n",
    "\n",
    "        # normalize\n",
    "        normalized = {}\n",
    "        count_sum = sum(count.values())\n",
    "        for word in count:\n",
    "            normalized[word] = count[word]/count_sum\n",
    "            \n",
    "        return normalized\n",
    "    \n",
    "    @staticmethod\n",
    "    def getSet(old_dict, book_id): # for training set\n",
    "        \n",
    "        count = Tools.readAndCount(book_id)        \n",
    "        count = dict(list(count.items())[0: 400]) # number of top words for a given tag\n",
    "        \n",
    "        soft_normalized = {}\n",
    "        count_sum = sum(count.values())\n",
    "        for word in count:\n",
    "            soft_normalized[word] = count[word]/count_sum\n",
    "        \n",
    "        # sum of the old dict and new one\n",
    "        combined = dict(Counter(old_dict)+Counter(soft_normalized))\n",
    "        combined = {k: v for k, v in sorted(combined.items(), key=lambda item: item[1], reverse=True)}\n",
    "        combined = dict(list(combined.items())[0: 400]) # limit to 400\n",
    "\n",
    "        return combined"
   ]
  },
  {
   "cell_type": "code",
   "execution_count": 3,
   "metadata": {},
   "outputs": [],
   "source": [
    "db = pd.read_csv('db.csv', usecols=['id', 'general_tags'])\n",
    "db = DataProcessing.shuffle(db)\n",
    "\n",
    "# split multi-tags\n",
    "db = db.assign(general_tags=db['general_tags'].str.split(';')).explode('general_tags')\n",
    "\n",
    "validation, train = DataProcessing.split(db)"
   ]
  },
  {
   "cell_type": "code",
   "execution_count": 4,
   "metadata": {
    "scrolled": false
   },
   "outputs": [],
   "source": [
    "# top words, training set\n",
    "soft_db = {}\n",
    "for i in range(len(train)):\n",
    "    try:\n",
    "        if train.iloc[i][1] in soft_db:\n",
    "            soft_db[train.iloc[i][1]] = Tools.getSet(soft_db[train.iloc[i][1]], train.iloc[i][0])\n",
    "        else:\n",
    "            soft_db[train.iloc[i][1]] = Tools.getSet({}, train.iloc[i][0])\n",
    "    except:\n",
    "        pass"
   ]
  },
  {
   "cell_type": "code",
   "execution_count": 5,
   "metadata": {},
   "outputs": [],
   "source": [
    "# validation samples\n",
    "samples = []\n",
    "for i in range(len(validation)):\n",
    "    try:\n",
    "        samples.append(Tools.countWords(validation.iloc[i][0]))\n",
    "    except:\n",
    "        pass"
   ]
  },
  {
   "cell_type": "code",
   "execution_count": 6,
   "metadata": {
    "scrolled": true
   },
   "outputs": [
    {
     "name": "stdout",
     "output_type": "stream",
     "text": [
      "Accuracy: 77.07 %\n"
     ]
    }
   ],
   "source": [
    "correct = 0\n",
    "for i in range(len(validation)):\n",
    "    if validation.iloc[i].general_tags in SoftSet.classify(soft_db, samples[i]):\n",
    "        correct += 1\n",
    "        \n",
    "accuracy = correct / len(validation) * 100\n",
    "print(\"Accuracy:\", round(accuracy, 2),\"%\")"
   ]
  }
 ],
 "metadata": {
  "kernelspec": {
   "display_name": "Python 3",
   "language": "python",
   "name": "python3"
  },
  "language_info": {
   "codemirror_mode": {
    "name": "ipython",
    "version": 3
   },
   "file_extension": ".py",
   "mimetype": "text/x-python",
   "name": "python",
   "nbconvert_exporter": "python",
   "pygments_lexer": "ipython3",
   "version": "3.8.5"
  }
 },
 "nbformat": 4,
 "nbformat_minor": 4
}
