{
 "cells": [
  {
   "cell_type": "code",
   "execution_count": 62,
   "metadata": {},
   "outputs": [],
   "source": [
    "import math\n",
    "import numpy as np\n",
    "import pandas as pd\n",
    "import random"
   ]
  },
  {
   "cell_type": "code",
   "execution_count": 296,
   "metadata": {},
   "outputs": [],
   "source": [
    "class DataProcessing:\n",
    "    @staticmethod\n",
    "    def shuffle(x):\n",
    "        for i in range(len(x)-1):\n",
    "            j = random.randint(0,i)\n",
    "            x.iloc[i], x.iloc[j] = x.iloc[j], x.iloc[i]\n",
    "        return x\n",
    "\n",
    "class SoftSet:\n",
    "    @staticmethod\n",
    "    def classify(Y, sample):\n",
    "        \n",
    "        # sum normalized values\n",
    "        match = {}\n",
    "        for genre in Y: # for every genre in 0/1 set\n",
    "            if genre not in match:\n",
    "                match[genre] = 0\n",
    "            for word in sample:        \n",
    "                if word in Y[genre]:\n",
    "                    match[genre] += sample[word]\n",
    "        \n",
    "        best = {k: v for k, v in sorted(match.items(), key=lambda item: item[1], reverse=True)}\n",
    "        return best     \n",
    "            \n",
    "        # TODO return highest values                 \n"
   ]
  },
  {
   "cell_type": "code",
   "execution_count": 289,
   "metadata": {},
   "outputs": [],
   "source": [
    "db = pd.read_csv('db.csv', usecols=['id', 'general_tags'])\n",
    "db = DataProcessing.shuffle(db)"
   ]
  },
  {
   "cell_type": "code",
   "execution_count": 266,
   "metadata": {
    "scrolled": true
   },
   "outputs": [],
   "source": [
    "class Tools:\n",
    "    \n",
    "    @staticmethod\n",
    "    def readAndCount(book_id):\n",
    "        # read file\n",
    "        words = ''\n",
    "        try:\n",
    "            f = open('out_processed/libgen/' + str(book_id) + '.txt')\n",
    "            words = f.read()\n",
    "            words = words.split()\n",
    "            \n",
    "        except FileNotFoundError: # temporary\n",
    "            global db\n",
    "            db = db.drop(db.loc[db['id'] == book_id].index)\n",
    "        \n",
    "        # count unique words\n",
    "        count = {}\n",
    "        for word in words:\n",
    "            if word in count:\n",
    "                count[word] += 1\n",
    "            else:\n",
    "                count[word] = 1\n",
    "                \n",
    "        # sorting\n",
    "        count = {k: v for k, v in sorted(count.items(), key=lambda item: item[1], reverse=True)}\n",
    "        \n",
    "        return count\n",
    "    \n",
    "    @staticmethod\n",
    "    def countWords(book_id):\n",
    "        \n",
    "        count = Tools.readAndCount(book_id)\n",
    "        \n",
    "        count = dict(list(count.items())[0: 1000])\n",
    "\n",
    "        # normalize\n",
    "        normalized = {}\n",
    "        count_sum = sum(count.values())\n",
    "        for word in count:\n",
    "            normalized[word] = count[word]/count_sum\n",
    "            \n",
    "        return normalized\n",
    "    \n",
    "    @staticmethod\n",
    "    def getSet(book_id):\n",
    "        \n",
    "        count = Tools.readAndCount(book_id)\n",
    "        \n",
    "        tags_and_words = list(count.keys())[0: 1000]\n",
    "\n",
    "\n",
    "        return tags_and_words"
   ]
  },
  {
   "cell_type": "code",
   "execution_count": 297,
   "metadata": {},
   "outputs": [],
   "source": [
    "# list of all genres\n",
    "genres = []\n",
    "for book in db.iloc:\n",
    "    genre = book['general_tags']\n",
    "    if genre not in genres:\n",
    "        genres.append(genre)\n",
    "\n",
    "n = 400 # temp limit\n",
    "\n",
    "# normalized top words of all books aka samples\n",
    "samples = []\n",
    "for i in range(n):\n",
    "    samples.append(Tools.countWords(db.iloc[i][0]))\n",
    "\n",
    "# 0/1 top words with tags aka soft db\n",
    "soft_db = {}\n",
    "for i in range(n):\n",
    "    soft_db[db.iloc[i][1]] = Tools.getSet(db.iloc[i][0])"
   ]
  },
  {
   "cell_type": "code",
   "execution_count": 294,
   "metadata": {
    "scrolled": false
   },
   "outputs": [
    {
     "data": {
      "text/html": [
       "<div>\n",
       "<style scoped>\n",
       "    .dataframe tbody tr th:only-of-type {\n",
       "        vertical-align: middle;\n",
       "    }\n",
       "\n",
       "    .dataframe tbody tr th {\n",
       "        vertical-align: top;\n",
       "    }\n",
       "\n",
       "    .dataframe thead th {\n",
       "        text-align: right;\n",
       "    }\n",
       "</style>\n",
       "<table border=\"1\" class=\"dataframe\">\n",
       "  <thead>\n",
       "    <tr style=\"text-align: right;\">\n",
       "      <th></th>\n",
       "      <th>id</th>\n",
       "      <th>general_tags</th>\n",
       "    </tr>\n",
       "  </thead>\n",
       "  <tbody>\n",
       "    <tr>\n",
       "      <th>0</th>\n",
       "      <td>603</td>\n",
       "      <td>Mathematics</td>\n",
       "    </tr>\n",
       "  </tbody>\n",
       "</table>\n",
       "</div>"
      ],
      "text/plain": [
       "    id general_tags\n",
       "0  603  Mathematics"
      ]
     },
     "execution_count": 294,
     "metadata": {},
     "output_type": "execute_result"
    }
   ],
   "source": [
    "db.head(1)"
   ]
  },
  {
   "cell_type": "code",
   "execution_count": 295,
   "metadata": {
    "scrolled": true
   },
   "outputs": [
    {
     "data": {
      "text/plain": [
       "{'Mathematics': 0.7751923387313716,\n",
       " 'Technology': 0.7533760154947015,\n",
       " 'Education;Education': 0.7424275030935611,\n",
       " 'Medicine': 0.6916527680637009,\n",
       " 'Education;Psychology;Psychology;Psychology;Psychology;Psychology;Psychology;Psychology;Psychology;Psychology': 0.6754048528541459,\n",
       " 'Technology;Technology;Technology;Technology': 0.6662048743745633,\n",
       " 'Business;Business': 0.6642411362780446,\n",
       " 'Psychology': 0.6327271749071938,\n",
       " 'Art': 0.6246435680852215,\n",
       " 'Medicine;Medicine;Medicine;Medicine': 0.6119868725453277,\n",
       " 'Computers': 0.6101172862753537,\n",
       " 'Chemistry': 0.6078845429601338,\n",
       " 'Economy': 0.6019798784096417,\n",
       " 'Business': 0.6019126271049663,\n",
       " 'Physical Educ. and Sport;Physical Educ. and Sport': 0.580768816915049,\n",
       " 'Geology': 0.5618308495184814,\n",
       " 'Biology': 0.5581723785441438,\n",
       " 'Business;Education': 0.5551057190509502,\n",
       " 'Housekeeping': 0.5504653790283538,\n",
       " 'Education': 0.5334642492064349,\n",
       " 'Physics': 0.5278420401355782,\n",
       " 'Technology;Technology;Technology;Technology;Technology;Technology;Technology;Technology;Technology;Technology;Technology;Technology;Art;Art;Art;Art;Art;Art;Art;Art;Art;Art;Art;Art;Art;Biology;Biology;Biology;Business;Business;Business;Business;Business;Business;Business;Business;Business;Business;Business;Business;Business;Business;Business;Business;Business;Business;Business;Chemistry;Chemistry;Chemistry;Chemistry;Chemistry;Chemistry;Chemistry;Chemistry;Chemistry;Chemistry;Chemistry;Chemistry;Chemistry;Chemistry;Chemistry;Chemistry;Chemistry;Computers;Computers;Computers;Computers;Computers;Computers;Computers;Computers;Computers;Computers;Computers;Computers;Computers;Geography;Geography;Geology;Geology;Geology;Geology;Geology;Geology;Geology;Geology;Geology;Geology;Geology;Geology;Geology;Geology;Geology;Geology;Economy;Economy;Economy;Economy;Economy;Economy;Economy;Economy;Education;Education;Education;Education;Education;Education;Education;Education;Education;Education;Education;Education;Housekeeping': 0.5246543282939687,\n",
       " 'Literature': 0.5186824124388015,\n",
       " 'History;History;History;History;History;History': 0.4832813256577176,\n",
       " 'Art;Art;History': 0.4782778285898742,\n",
       " 'Geology;Geology;Geology': 0.38696400710173756,\n",
       " 'History;History': 0.3832382848227255,\n",
       " 'Geography': 0.3570506267821592,\n",
       " 'History': 0.35655296712756196,\n",
       " 'Physical Educ. and Sport': 0,\n",
       " 'Linguistics': 0,\n",
       " 'Geology;Geology': 0,\n",
       " 'Mathematics;Mathematics': 0,\n",
       " 'Technology;Technology': 0}"
      ]
     },
     "execution_count": 295,
     "metadata": {},
     "output_type": "execute_result"
    }
   ],
   "source": [
    "SoftSet.classify(soft_db, samples[0])"
   ]
  }
 ],
 "metadata": {
  "kernelspec": {
   "display_name": "Python 3",
   "language": "python",
   "name": "python3"
  },
  "language_info": {
   "codemirror_mode": {
    "name": "ipython",
    "version": 3
   },
   "file_extension": ".py",
   "mimetype": "text/x-python",
   "name": "python",
   "nbconvert_exporter": "python",
   "pygments_lexer": "ipython3",
   "version": "3.8.5"
  }
 },
 "nbformat": 4,
 "nbformat_minor": 4
}
